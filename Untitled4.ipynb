{
  "nbformat": 4,
  "nbformat_minor": 0,
  "metadata": {
    "colab": {
      "provenance": [],
      "gpuType": "T4",
      "authorship_tag": "ABX9TyMLoHoChYr6OPy1GiEOptzl",
      "include_colab_link": true
    },
    "kernelspec": {
      "name": "python3",
      "display_name": "Python 3"
    },
    "language_info": {
      "name": "python"
    }
  },
  "cells": [
    {
      "cell_type": "markdown",
      "metadata": {
        "id": "view-in-github",
        "colab_type": "text"
      },
      "source": [
        "<a href=\"https://colab.research.google.com/github/vikas1306v/CaliforniaHousing-ML/blob/main/Untitled4.ipynb\" target=\"_parent\"><img src=\"https://colab.research.google.com/assets/colab-badge.svg\" alt=\"Open In Colab\"/></a>"
      ]
    },
    {
      "cell_type": "code",
      "execution_count": 3,
      "metadata": {
        "id": "7_RbHmHOUSMp"
      },
      "outputs": [],
      "source": [
        "import pandas as pd\n",
        "from sklearn.datasets import fetch_california_housing\n",
        "from sklearn.model_selection import train_test_split\n",
        "from sklearn.impute import SimpleImputer, KNNImputer\n",
        "from sklearn.preprocessing import OneHotEncoder, OrdinalEncoder, StandardScaler\n",
        "from sklearn.compose import ColumnTransformer\n",
        "from sklearn.linear_model import LinearRegression\n",
        "from sklearn.tree import DecisionTreeRegressor\n",
        "from sklearn.ensemble import RandomForestRegressor\n",
        "from sklearn.svm import SVR\n",
        "from sklearn.neighbors import KNeighborsRegressor\n",
        "from sklearn.neural_network import MLPRegressor\n",
        "from sklearn.model_selection import GridSearchCV, RandomizedSearchCV\n",
        "from sklearn.pipeline import Pipeline\n",
        "from sklearn.ensemble import StackingRegressor\n",
        "import numpy as np  # May be needed for some operations\n"
      ]
    },
    {
      "cell_type": "code",
      "source": [
        "# Load the California Housing Prices dataset\n",
        "housing = fetch_california_housing()\n",
        "X = housing.data  # Features\n",
        "y = housing.target  # Target (median house value)\n",
        "\n",
        "# Split data into training and testing sets (adjust test_size as needed)\n",
        "X_train, X_test, y_train, y_test = train_test_split(X, y, test_size=0.2, random_state=42)\n"
      ],
      "metadata": {
        "id": "NbdhM195Ut2e"
      },
      "execution_count": 4,
      "outputs": []
    },
    {
      "cell_type": "code",
      "source": [
        "import pandas as pd\n",
        "from sklearn.datasets import fetch_california_housing\n",
        "from sklearn.model_selection import train_test_split\n",
        "from sklearn.impute import SimpleImputer, KNNImputer\n",
        "from sklearn.preprocessing import OneHotEncoder, OrdinalEncoder, StandardScaler\n",
        "from sklearn.compose import ColumnTransformer\n",
        "\n",
        "# Load the California Housing Prices dataset\n",
        "housing = fetch_california_housing()\n",
        "X = housing.data  # Features\n",
        "y = housing.target  # Target (median house value)\n",
        "\n",
        "# Split data into training and testing sets (adjust test_size as needed)\n",
        "X_train, X_test, y_train, y_test = train_test_split(X, y, test_size=0.2, random_state=42)\n",
        "\n",
        "# Analyze data to identify categorical and numerical features\n",
        "categorical_features = [i for i, col in enumerate(housing.feature_names) if col.startswith(\"ocean\")]  # Example: Assuming ocean features are categorical\n",
        "numerical_features = [i for i, col in enumerate(housing.feature_names) if not col.startswith(\"ocean\")]  # Assuming others are numerical\n",
        "\n",
        "# Create a ColumnTransformer for preprocessing\n",
        "preprocessor = ColumnTransformer([\n",
        "    ('imputer', SimpleImputer(strategy='median'), numerical_features),  # Impute missing values in numerical features with median\n",
        "    ('categorical', OneHotEncoder(sparse=False), categorical_features)  # One-hot encode categorical features\n",
        "])\n",
        "\n",
        "# Fit the transformer to the training data\n",
        "preprocessor.fit(X_train)\n",
        "\n",
        "# Transform training and testing data using the fitted transformer\n",
        "X_train_processed = preprocessor.transform(X_train)\n",
        "X_test_processed = preprocessor.transform(X_test)\n",
        "\n",
        "# You can now use X_train_processed and X_test_processed for model training\n",
        "# (assuming this is the next step in your workflow)\n"
      ],
      "metadata": {
        "id": "CzcpiFD6U3fv"
      },
      "execution_count": 5,
      "outputs": []
    },
    {
      "cell_type": "code",
      "source": [
        "from sklearn.linear_model import LinearRegression\n",
        "from sklearn.tree import DecisionTreeRegressor\n",
        "from sklearn.ensemble import RandomForestRegressor\n",
        "from sklearn.svm import SVR\n",
        "from sklearn.neighbors import KNeighborsRegressor\n",
        "from sklearn.neural_network import MLPRegressor\n",
        "\n",
        "# Function to train and evaluate a model (regression)\n",
        "def train_and_evaluate_model(model_name, model, X_train, y_train, X_test, y_test):\n",
        "    model.fit(X_train, y_train)\n",
        "    y_pred = model.predict(X_test)\n",
        "    from sklearn.metrics import mean_squared_error  # Assuming you want to minimize squared error\n",
        "    mse = mean_squared_error(y_test, y_pred)\n",
        "    print(f\"{model_name} MSE: {mse:.2f}\")\n",
        "\n",
        "# Create and train various models\n",
        "models = {\n",
        "    \"Linear Regression\": LinearRegression(),\n",
        "    \"Decision Tree Regressor\": DecisionTreeRegressor(),\n",
        "    \"Random Forest Regressor\": RandomForestRegressor(),\n",
        "    \"SVR\": SVR(),\n",
        "    \"K-Nearest Neighbors Regressor\": KNeighborsRegressor(),\n",
        "    \"MLP Regressor\": MLPRegressor()\n",
        "}\n",
        "\n",
        "for name, model in models.items():\n",
        "    train_and_evaluate_model(name, model, X_train_processed, y_train, X_test_processed, y_test)\n"
      ],
      "metadata": {
        "id": "MDe39XH5WELB",
        "colab": {
          "base_uri": "https://localhost:8080/"
        },
        "outputId": "e5695c8c-b710-408d-d354-c4fe4c2b6fec"
      },
      "execution_count": 6,
      "outputs": [
        {
          "output_type": "stream",
          "name": "stdout",
          "text": [
            "Linear Regression MSE: 0.56\n",
            "Decision Tree Regressor MSE: 0.50\n",
            "Random Forest Regressor MSE: 0.25\n",
            "SVR MSE: 1.33\n",
            "K-Nearest Neighbors Regressor MSE: 1.12\n",
            "MLP Regressor MSE: 1.72\n"
          ]
        }
      ]
    },
    {
      "cell_type": "code",
      "source": [
        "from sklearn.model_selection import GridSearchCV, RandomizedSearchCV\n",
        "\n",
        "# Hyperparameter grid for Random Forest Regressor\n",
        "param_grid_rf = {\n",
        "    'n_estimators': [100, 200, 300],\n",
        "    'max_depth': [4, 6, 8],\n",
        "    'min_samples_split': [2, 5, 10]\n",
        "}\n",
        "\n"
      ],
      "metadata": {
        "id": "dARxSUHLWO_H"
      },
      "execution_count": 2,
      "outputs": []
    },
    {
      "cell_type": "code",
      "source": [
        "# Create and run GridSearchCV for Random Forest Regressor\n",
        "rf_grid_search = GridSearchCV(RandomForestRegressor(), param_grid=param_grid_rf, cv=5, scoring='neg_mean_squared_error')  # Minimize MSE\n",
        "rf_grid_search.fit(X_train_processed, y_train)\n",
        "\n",
        "# Print best parameters and score\n",
        "print(\"Random Forest GridSearchCV Best Parameters:\", rf_grid_search.best_params_)\n",
        "print(\"Random Forest GridSearchCV Best Score:\", -rf_grid_search.best_score_)  # Unpack negative MSE\n"
      ],
      "metadata": {
        "id": "ilCQkJC1YTNB"
      },
      "execution_count": null,
      "outputs": []
    },
    {
      "cell_type": "code",
      "source": [
        "# Hyperparameter distribution for SVR\n",
        "param_dist_svr = {\n",
        "    'C': [0.1, 1, 10],\n",
        "    'kernel': ['linear', 'rbf'],\n",
        "    'gamma': [0.1, 1, 10]\n",
        "}\n",
        "\n",
        "# Create and run RandomizedSearchCV for SVR\n",
        "svr_random_search = RandomizedSearchCV(SVR(), param_distributions=param_dist_svr, cv=5, scoring='neg_mean_squared_error', n_iter=10)\n",
        "svr_random_search.fit(X_train_processed, y_train)\n",
        "\n",
        "# Print best parameters and score\n",
        "print(\"SVR RandomizedSearchCV Best Parameters:\", svr_random_search.best_params_)\n",
        "print(\"SVR RandomizedSearchCV Best Score:\", -svr_random_search.best_score_)  # Unpack negative MSE\n"
      ],
      "metadata": {
        "id": "cBMRsbJoYiXg"
      },
      "execution_count": null,
      "outputs": []
    },
    {
      "cell_type": "code",
      "source": [
        "from sklearn.pipeline import Pipeline\n",
        "\n",
        "# Define the preprocessing steps\n",
        "preprocessor = ColumnTransformer([\n",
        "    ('imputer', SimpleImputer(strategy='median'), numerical_features),\n",
        "    ('categorical', OneHotEncoder(sparse=False), categorical_features)\n",
        "])\n",
        "\n",
        "# Create a pipeline with preprocessing and Random Forest Regressor\n",
        "pipe = Pipeline([\n",
        "    ('preprocessor', preprocessor),\n",
        "    ('regressor', RandomForestRegressor())\n",
        "])\n",
        "\n",
        "# Train the pipeline\n",
        "pipe.fit(X_train, y_train)\n",
        "\n",
        "# Use the pipeline to make predictions\n",
        "y_pred = pipe.predict(X_test_processed)\n",
        "\n",
        "# Evaluate performance (e.g., calculate MSE)\n",
        "\n"
      ],
      "metadata": {
        "id": "0weFbcXrWWx3"
      },
      "execution_count": null,
      "outputs": []
    },
    {
      "cell_type": "code",
      "source": [
        "from sklearn.ensemble import StackingRegressor\n",
        "\n",
        "# Define base estimators\n",
        "estimators = [\n",
        "    ('rf', RandomForestRegressor()),\n",
        "    ('svr', SVR(C=1, kernel='rbf'))  # Use best parameters from hyperparameter tuning\n",
        "]\n",
        "\n",
        "# Define final estimator\n",
        "final_estimator = LinearRegression()\n",
        "\n",
        "# Create a Stacking Regressor\n",
        "stacking_regressor = StackingRegressor(estimators=estimators, final_estimator=final_estimator)\n",
        "\n",
        "# Train the ensemble model\n",
        "stacking_regressor.fit(X_train_processed, y_train)\n",
        "\n",
        "# Use the ensemble model to make predictions\n",
        "y_pred = stacking_regressor.predict(X_test_processed)\n",
        "\n",
        "# Evaluate performance (e.g., calculate MSE)\n"
      ],
      "metadata": {
        "id": "aSK0o_HZY4UK"
      },
      "execution_count": null,
      "outputs": []
    }
  ]
}